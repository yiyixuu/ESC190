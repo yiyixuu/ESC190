{
 "cells": [
  {
   "cell_type": "code",
   "execution_count": null,
   "metadata": {},
   "outputs": [],
   "source": [
    "def stack_push(stack, item):\n",
    "    stack.append(item)\n",
    "\n",
    "def stack_pop(stack):\n",
    "    return stack.pop()\n",
    "\n",
    "if __name__ == '__main__':\n",
    "    stack = []\n",
    "    stack_push(stack, 1)\n",
    "    stack_push(stack, 2)\n",
    "    stack_push(stack, 3)\n",
    "    print(stack)\n",
    "    print(stack_pop(stack))\n",
    "    print(stack_pop(stack))\n",
    "    print(stack_pop(stack))\n",
    "    print(stack)"
   ]
  },
  {
   "cell_type": "code",
   "execution_count": null,
   "metadata": {},
   "outputs": [],
   "source": []
  }
 ],
 "metadata": {
  "language_info": {
   "name": "python"
  }
 },
 "nbformat": 4,
 "nbformat_minor": 2
}
