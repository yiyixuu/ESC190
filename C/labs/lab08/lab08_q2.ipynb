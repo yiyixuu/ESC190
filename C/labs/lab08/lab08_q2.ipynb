{
 "cells": [
  {
   "cell_type": "code",
   "execution_count": null,
   "metadata": {},
   "outputs": [],
   "source": [
    "# Part a\n",
    "\n",
    "# OPT(n) = min(1 + OPT(n-coin) for coin in coins)"
   ]
  },
  {
   "cell_type": "code",
   "execution_count": 8,
   "metadata": {},
   "outputs": [
    {
     "data": {
      "text/plain": [
       "[0, 1, 2, 3, 4, 1, 2, 3, 4]"
      ]
     },
     "execution_count": 8,
     "metadata": {},
     "output_type": "execute_result"
    }
   ],
   "source": [
    "# Part b\n",
    "\n",
    "import numpy as np\n",
    "\n",
    "def make_change(coins, amount):\n",
    "    OPT = [np.inf] * (amount+1) # +1 bc from 0 to amount\n",
    "    OPT[0] = 0\n",
    "    for i in range(1, amount+1):\n",
    "        for c in coins:\n",
    "            if i - c >= 0:\n",
    "                OPT[i] = min(OPT[i], 1 + OPT[i-c])\n",
    "    return OPT\n",
    "\n",
    "\n",
    "make_change([1, 5, 10], 8)"
   ]
  },
  {
   "cell_type": "code",
   "execution_count": 11,
   "metadata": {},
   "outputs": [
    {
     "name": "stdout",
     "output_type": "stream",
     "text": [
      "[0, 1, 2, 1, 1, 2, 2, 2, 2]\n",
      "[4, 4]\n"
     ]
    }
   ],
   "source": [
    "def coins_used(coins, amount):\n",
    "    OPT = make_change(coins, amount)\n",
    "    used = []\n",
    "    while amount > 0:\n",
    "        for c in coins:\n",
    "            if amount - c >= 0 and OPT[amount] == 1 + OPT[amount-c]:\n",
    "                used.append(c)\n",
    "                amount -= c\n",
    "                break\n",
    "    return used\n",
    "\n",
    "print(make_change([1, 3, 4], 8))\n",
    "print(coins_used([1, 3, 4], 8))"
   ]
  }
 ],
 "metadata": {
  "kernelspec": {
   "display_name": "Python 3",
   "language": "python",
   "name": "python3"
  },
  "language_info": {
   "codemirror_mode": {
    "name": "ipython",
    "version": 3
   },
   "file_extension": ".py",
   "mimetype": "text/x-python",
   "name": "python",
   "nbconvert_exporter": "python",
   "pygments_lexer": "ipython3",
   "version": "3.11.5"
  }
 },
 "nbformat": 4,
 "nbformat_minor": 2
}
