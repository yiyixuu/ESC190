{
 "cells": [
  {
   "cell_type": "code",
   "execution_count": 2,
   "metadata": {},
   "outputs": [],
   "source": [
    "graph = {1:[3, 6],\n",
    "         2:[3, 5],\n",
    "         3:[1, 2, 4, 5],\n",
    "         4:[3, 5],\n",
    "         5:[2, 3, 4, 6],\n",
    "         6:[1, 5]}\n",
    "\n",
    "\n",
    "nodes = [1, 2, 3, 4, 5, 6]"
   ]
  },
  {
   "cell_type": "code",
   "execution_count": 3,
   "metadata": {},
   "outputs": [],
   "source": [
    "from queue import Queue\n",
    "\n",
    "\n",
    "def bfs(graph, start):\n",
    "    visited = set()\n",
    "    ds = Queue()\n",
    "    ds.put(start)\n",
    "    visited.add(start)\n",
    "    while not ds.empty():\n",
    "        node = ds.get()\n",
    "        print(node)\n",
    "        for n in graph[node]:\n",
    "            if n not in visited:\n",
    "                ds.put(n)\n",
    "                visited.add(n)\n",
    "\n",
    "def dfs(graph, start):\n",
    "    visited = set()\n",
    "    ds = [] # stack\n",
    "    ds.append(start)\n",
    "    visited.add(start)\n",
    "    while ds:\n",
    "        node = ds.pop()\n",
    "        print(node)\n",
    "        for n in graph[node]:\n",
    "            if n not in visited:\n",
    "                ds.append(n)\n",
    "                visited.add(n)\n"
   ]
  },
  {
   "cell_type": "code",
   "execution_count": 4,
   "metadata": {},
   "outputs": [
    {
     "name": "stdout",
     "output_type": "stream",
     "text": [
      "BFS\n",
      "1\n",
      "3\n",
      "6\n",
      "2\n",
      "4\n",
      "5\n",
      "DFS\n",
      "1\n",
      "6\n",
      "5\n",
      "4\n",
      "2\n",
      "3\n"
     ]
    }
   ],
   "source": [
    "print(\"BFS\")\n",
    "bfs(graph, 1)\n",
    "print(\"DFS\")\n",
    "dfs(graph, 1)"
   ]
  }
 ],
 "metadata": {
  "kernelspec": {
   "display_name": "Python 3",
   "language": "python",
   "name": "python3"
  },
  "language_info": {
   "codemirror_mode": {
    "name": "ipython",
    "version": 3
   },
   "file_extension": ".py",
   "mimetype": "text/x-python",
   "name": "python",
   "nbconvert_exporter": "python",
   "pygments_lexer": "ipython3",
   "version": "3.11.5"
  }
 },
 "nbformat": 4,
 "nbformat_minor": 2
}
