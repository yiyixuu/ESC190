{
 "cells": [
  {
   "cell_type": "code",
   "execution_count": 9,
   "metadata": {},
   "outputs": [
    {
     "name": "stdout",
     "output_type": "stream",
     "text": [
      "the mark in CSC108 is 100\n",
      "the mark in ESC180 is 800\n",
      "True\n"
     ]
    }
   ],
   "source": [
    "class AcornEntry:\n",
    "    def __init__(self, course, mark):\n",
    "        self.course = course\n",
    "        self.mark = mark\n",
    "\n",
    "    def __repr__(self):\n",
    "        return f'the mark in {self.course} is {self.mark}'\n",
    "    \n",
    "    def __lt__(self, other): # less than, analogous to comparator function in qsort in C\n",
    "        # return self.mark < other.mark\n",
    "\n",
    "\n",
    "        # if self.course < other.course:\n",
    "        #     return True\n",
    "        # elif self.course == other.course:\n",
    "        #     return self.mark < other.mark\n",
    "        # else:\n",
    "        #     return False\n",
    "\n",
    "        return (self.mark, self.course) < (other.mark, other.course)\n",
    "        \n",
    "\n",
    "\n",
    "\n",
    "acorn_artsci = AcornEntry(\"CSC108\", 100)\n",
    "acorn_engsci = AcornEntry(\"ESC180\", 800)\n",
    "\n",
    "print(acorn_artsci)\n",
    "print(acorn_engsci)\n",
    "print(acorn_artsci < acorn_engsci) "
   ]
  },
  {
   "cell_type": "code",
   "execution_count": 10,
   "metadata": {},
   "outputs": [
    {
     "name": "stdout",
     "output_type": "stream",
     "text": [
      "[the mark in ESC190 is 87, the mark in ESC190 is 89, the mark in ESC180 is 90, the mark in ESC180 is 100]\n"
     ]
    }
   ],
   "source": [
    "entries = [AcornEntry(\"ESC180\", 90), \n",
    "           AcornEntry(\"ESC190\", 87), \n",
    "           AcornEntry(\"ESC180\", 100),\n",
    "           AcornEntry(\"ESC190\", 89)]\n",
    "\n",
    "entries.sort()\n",
    "print(entries) # [the mark in ESC180 is 90, the mark in ESC180 is 100, the mark in ESC190 is 87, the mark in ESC190 is 89]"
   ]
  },
  {
   "cell_type": "code",
   "execution_count": 14,
   "metadata": {},
   "outputs": [
    {
     "name": "stdout",
     "output_type": "stream",
     "text": [
      "Queue: LAST IN -> [5, 20] <- FIRST IN\n"
     ]
    }
   ],
   "source": [
    "# Queues\n",
    "\n",
    "\n",
    "q = [7, 4, 5]\n",
    "\n",
    "# enqueue(10)\n",
    "\n",
    "q = [10, 7, 4, 5]\n",
    "\n",
    "# dequeue() -> 5\n",
    "\n",
    "\n",
    "class Queue:\n",
    "    def __init__(self):\n",
    "        self.q = []\n",
    "\n",
    "    def enqueue(self, item): # O(n)\n",
    "        self.q.insert(0, item)\n",
    "\n",
    "    def dequeue(self): # O(1)\n",
    "        return self.q.pop()\n",
    "    \n",
    "    def __repr__(self):\n",
    "        return f'Queue: LAST IN -> {self.q} <- FIRST IN'\n",
    "    \n",
    "\n",
    "q1 = Queue()\n",
    "q1.enqueue(10)\n",
    "q1.enqueue(20)\n",
    "q1.dequeue()\n",
    "q1.enqueue(5)\n",
    "\n",
    "print(q1) # Queue: LAST IN -> [5, 20] <- FIRST IN\n"
   ]
  },
  {
   "cell_type": "code",
   "execution_count": 23,
   "metadata": {},
   "outputs": [
    {
     "name": "stdout",
     "output_type": "stream",
     "text": [
      "20\n",
      "5\n"
     ]
    }
   ],
   "source": [
    "\n",
    "\n",
    "import queue\n",
    "\n",
    "q2 = queue.Queue()\n",
    "\n",
    "q2.put(10)\n",
    "q2.put(20)\n",
    "q2.get()\n",
    "q2.put(5)\n",
    "\n",
    "for i in q2.queue:\n",
    "    print(i)\n",
    "\n"
   ]
  },
  {
   "cell_type": "code",
   "execution_count": null,
   "metadata": {},
   "outputs": [],
   "source": [
    "# for O(1) enqueue and dequeue, use linked list\n",
    "\n",
    "# linked list:\n",
    "    # A->B->C->D->E\n",
    "    # enqueue, add to end O(1) if we keep track of the end node\n",
    "    # dequeue, remove from start O(1) if we keep track of the head node"
   ]
  },
  {
   "cell_type": "code",
   "execution_count": 27,
   "metadata": {},
   "outputs": [
    {
     "name": "stdout",
     "output_type": "stream",
     "text": [
      "70330367711422815821835254877183549770181269836358732742604905087154537118196933579742249494562611733487750449241765991088186363265450223647106012053374121273867339111198139373125598767690091902245245323403501\n",
      "0.000560760498046875\n",
      "70330367711422815821835254877183549770181269836358732742604905087154537118196933579742249494562611733487750449241765991088186363265450223647106012053374121273867339111198139373125598767690091902245245323403501\n",
      "3.075599670410156e-05\n",
      "18.232558139534884\n"
     ]
    }
   ],
   "source": [
    "def fib_a(n):\n",
    "    if n in [0, 1]:\n",
    "        return 1\n",
    "    return fib(n-1) + fib(n-2)\n",
    "\n",
    "# calls fib(5) a bunch when calculating fib(10)\n",
    "# use memoization!!\n",
    "\n",
    "\n",
    "def fib(n, fib_dict = {0: 1, 1: 1}):\n",
    "    if n not in fib_dict:\n",
    "        fib_dict[n] = fib(n-1, fib_dict) + fib(n-2, fib_dict)\n",
    "\n",
    "    return fib_dict[n]\n",
    "\n",
    "import time\n",
    "\n",
    "start = time.time()\n",
    "print(fib_a(1000))\n",
    "a = time.time() - start\n",
    "print(a)\n",
    "\n",
    "start = time.time()\n",
    "print(fib(1000))\n",
    "b = time.time() - start\n",
    "print(b)\n",
    "\n",
    "print(a/b)\n",
    "\n"
   ]
  },
  {
   "cell_type": "code",
   "execution_count": null,
   "metadata": {},
   "outputs": [],
   "source": [
    "# DP\n",
    "# make 11 cents using [7, 5, 1]\n",
    "# OPT(11) = least num of coins to make 11 cents\n",
    "# need at least 1 cent\n",
    "# if we use 7c, num of coins = 1 + OPT(11-7)\n",
    "# if we use 5c, num of coins = 1 + OPT(11-5)\n",
    "# if we use 1c, num of coins = 1 + OPT(11-1)\n",
    "\n",
    "# OPT(11) = min(1 + OPT(11-7), 1 + OPT(11-5), 1 + OPT(11-1))\n",
    "# base case OPT(0) = 0, OPT(<0) = infinity"
   ]
  },
  {
   "cell_type": "code",
   "execution_count": 5,
   "metadata": {},
   "outputs": [],
   "source": [
    "import numpy as np\n",
    "\n",
    "def make_change(coins, amount):\n",
    "    OPT = [np.inf] * (amount+1) # +1 bc from 0 to amount\n",
    "    OPT[0] = 0\n",
    "    for i in range(amount+1):\n",
    "        for c in coins:\n",
    "            if i - c >= 0:\n",
    "                OPT[i] = min(OPT[i], 1 + OPT[i-c])\n",
    "\n",
    "    print(OPT)\n",
    "    return OPT[amount]\n"
   ]
  },
  {
   "cell_type": "code",
   "execution_count": 6,
   "metadata": {},
   "outputs": [
    {
     "name": "stdout",
     "output_type": "stream",
     "text": [
      "[inf, inf, inf, inf, inf, inf, inf, inf, inf, inf, inf, inf]\n",
      "[0, 1, 2, 3, 4, 1, 2, 1, 2, 3, 2, 3]\n"
     ]
    },
    {
     "data": {
      "text/plain": [
       "3"
      ]
     },
     "execution_count": 6,
     "metadata": {},
     "output_type": "execute_result"
    }
   ],
   "source": [
    "make_change([1, 5, 7], 11) "
   ]
  },
  {
   "cell_type": "code",
   "execution_count": null,
   "metadata": {},
   "outputs": [],
   "source": [
    "# Project 2 intro\n"
   ]
  }
 ],
 "metadata": {
  "kernelspec": {
   "display_name": "Python 3",
   "language": "python",
   "name": "python3"
  },
  "language_info": {
   "codemirror_mode": {
    "name": "ipython",
    "version": 3
   },
   "file_extension": ".py",
   "mimetype": "text/x-python",
   "name": "python",
   "nbconvert_exporter": "python",
   "pygments_lexer": "ipython3",
   "version": "3.11.5"
  }
 },
 "nbformat": 4,
 "nbformat_minor": 2
}
