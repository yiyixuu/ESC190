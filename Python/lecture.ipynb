{
 "cells": [
  {
   "cell_type": "code",
   "execution_count": 9,
   "metadata": {},
   "outputs": [
    {
     "name": "stdout",
     "output_type": "stream",
     "text": [
      "the mark in CSC108 is 100\n",
      "the mark in ESC180 is 800\n",
      "True\n"
     ]
    }
   ],
   "source": [
    "class AcornEntry:\n",
    "    def __init__(self, course, mark):\n",
    "        self.course = course\n",
    "        self.mark = mark\n",
    "\n",
    "    def __repr__(self):\n",
    "        return f'the mark in {self.course} is {self.mark}'\n",
    "    \n",
    "    def __lt__(self, other): # less than, analogous to comparator function in qsort in C\n",
    "        # return self.mark < other.mark\n",
    "\n",
    "\n",
    "        # if self.course < other.course:\n",
    "        #     return True\n",
    "        # elif self.course == other.course:\n",
    "        #     return self.mark < other.mark\n",
    "        # else:\n",
    "        #     return False\n",
    "\n",
    "        return (self.mark, self.course) < (other.mark, other.course)\n",
    "        \n",
    "\n",
    "\n",
    "\n",
    "acorn_artsci = AcornEntry(\"CSC108\", 100)\n",
    "acorn_engsci = AcornEntry(\"ESC180\", 800)\n",
    "\n",
    "print(acorn_artsci)\n",
    "print(acorn_engsci)\n",
    "print(acorn_artsci < acorn_engsci) "
   ]
  },
  {
   "cell_type": "code",
   "execution_count": 10,
   "metadata": {},
   "outputs": [
    {
     "name": "stdout",
     "output_type": "stream",
     "text": [
      "[the mark in ESC190 is 87, the mark in ESC190 is 89, the mark in ESC180 is 90, the mark in ESC180 is 100]\n"
     ]
    }
   ],
   "source": [
    "entries = [AcornEntry(\"ESC180\", 90), \n",
    "           AcornEntry(\"ESC190\", 87), \n",
    "           AcornEntry(\"ESC180\", 100),\n",
    "           AcornEntry(\"ESC190\", 89)]\n",
    "\n",
    "entries.sort()\n",
    "print(entries) # [the mark in ESC180 is 90, the mark in ESC180 is 100, the mark in ESC190 is 87, the mark in ESC190 is 89]"
   ]
  },
  {
   "cell_type": "code",
   "execution_count": 14,
   "metadata": {},
   "outputs": [
    {
     "name": "stdout",
     "output_type": "stream",
     "text": [
      "Queue: LAST IN -> [5, 20] <- FIRST IN\n"
     ]
    }
   ],
   "source": [
    "# Queues\n",
    "\n",
    "\n",
    "q = [7, 4, 5]\n",
    "\n",
    "# enqueue(10)\n",
    "\n",
    "q = [10, 7, 4, 5]\n",
    "\n",
    "# dequeue() -> 5\n",
    "\n",
    "\n",
    "class Queue:\n",
    "    def __init__(self):\n",
    "        self.q = []\n",
    "\n",
    "    def enqueue(self, item): # O(n)\n",
    "        self.q.insert(0, item)\n",
    "\n",
    "    def dequeue(self): # O(1)\n",
    "        return self.q.pop()\n",
    "    \n",
    "    def __repr__(self):\n",
    "        return f'Queue: LAST IN -> {self.q} <- FIRST IN'\n",
    "    \n",
    "\n",
    "q1 = Queue()\n",
    "q1.enqueue(10)\n",
    "q1.enqueue(20)\n",
    "q1.dequeue()\n",
    "q1.enqueue(5)\n",
    "\n",
    "print(q1) # Queue: LAST IN -> [5, 20] <- FIRST IN\n"
   ]
  },
  {
   "cell_type": "code",
   "execution_count": 23,
   "metadata": {},
   "outputs": [
    {
     "name": "stdout",
     "output_type": "stream",
     "text": [
      "20\n",
      "5\n"
     ]
    }
   ],
   "source": [
    "\n",
    "\n",
    "import queue\n",
    "\n",
    "q2 = queue.Queue()\n",
    "\n",
    "q2.put(10)\n",
    "q2.put(20)\n",
    "q2.get()\n",
    "q2.put(5)\n",
    "\n",
    "for i in q2.queue:\n",
    "    print(i)\n",
    "\n"
   ]
  },
  {
   "cell_type": "code",
   "execution_count": null,
   "metadata": {},
   "outputs": [],
   "source": [
    "# for O(1) enqueue and dequeue, use linked list\n",
    "\n",
    "# linked list:\n",
    "    # A->B->C->D->E\n",
    "    # enqueue, add to end O(1) if we keep track of the end node\n",
    "    # dequeue, remove from start O(1) if we keep track of the head node"
   ]
  }
 ],
 "metadata": {
  "kernelspec": {
   "display_name": "Python 3",
   "language": "python",
   "name": "python3"
  },
  "language_info": {
   "codemirror_mode": {
    "name": "ipython",
    "version": 3
   },
   "file_extension": ".py",
   "mimetype": "text/x-python",
   "name": "python",
   "nbconvert_exporter": "python",
   "pygments_lexer": "ipython3",
   "version": "3.11.5"
  }
 },
 "nbformat": 4,
 "nbformat_minor": 2
}
